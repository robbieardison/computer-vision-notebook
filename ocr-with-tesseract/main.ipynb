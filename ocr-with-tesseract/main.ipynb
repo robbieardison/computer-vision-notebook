{
 "cells": [
  {
   "cell_type": "code",
   "execution_count": 2,
   "metadata": {},
   "outputs": [
    {
     "name": "stdout",
     "output_type": "stream",
     "text": [
      "ny NP MAEI ae Paa. -\n",
      "\n",
      "PROVINSIBALI\n",
      "KOTA DENPASAR\n",
      "NIK “ 517?1010905900004\n",
      "Nama AGUNG NIZAR SANTOSO\n",
      "Y\n",
      "C _-:-n'u:- l…wmlm\n",
      "\n",
      "Go Daran\n",
      "na x!nu……u&\n",
      "19, SEKAR KANGIN\n",
      "\n",
      "——\n",
      "\n",
      "\n"
     ]
    }
   ],
   "source": [
    "import pytesseract\n",
    "from PIL import Image\n",
    "\n",
    "image = Image.open('../assets/ktp_sample_1.webp')\n",
    "\n",
    "text = pytesseract.image_to_string(image, lang='ind')\n",
    "print(text)"
   ]
  },
  {
   "cell_type": "markdown",
   "metadata": {},
   "source": [
    "# Use OpenCV for preprocessing"
   ]
  },
  {
   "cell_type": "code",
   "execution_count": 3,
   "metadata": {},
   "outputs": [
    {
     "name": "stdout",
     "output_type": "stream",
     "text": [
      "Extracted Text:\n",
      " Sey SP AE an PPna... SE AAA GAS @A o\n",
      "PROVINSI BALI\n",
      "' KOTA DENPASAR\n",
      "NIK : 5171010905 900006\n",
      "Mumo ……W…\n",
      "TengarTai ane  BADUNG. 0905 1980\n",
      "anlakatin — LAGHUNG Go Da .\n",
      "ane . A KERTA DAI GANI NV ND\n",
      "E mmm . A BEKAR KAI\n",
      "Oinun Perkouinan. DP UM KAI\n",
      "Punajaan WARADWASTA NOTA GENPASAR\n",
      "Kewarganegiraan t ibe\n",
      "AS\n",
      "\n"
     ]
    },
    {
     "data": {
      "text/plain": [
       "\"cv2.imshow('Preprocessed Image', denoised)\\ncv2.waitKey(0)\\ncv2.destroyAllWindows()\""
      ]
     },
     "execution_count": 3,
     "metadata": {},
     "output_type": "execute_result"
    }
   ],
   "source": [
    "import cv2\n",
    "import pytesseract\n",
    "from pytesseract import Output\n",
    "\n",
    "image = cv2.imread('../assets/ktp_sample_1.webp')\n",
    "\n",
    "# Preprocessing\n",
    "gray = cv2.cvtColor(image, cv2.COLOR_BGR2GRAY)  # Convert to grayscale\n",
    "_, binary = cv2.threshold(gray, 150, 255, cv2.THRESH_BINARY)  # Binarization\n",
    "denoised = cv2.medianBlur(binary, 3)  # Noise removal\n",
    "\n",
    "# Perform OCR using Tesseract\n",
    "custom_config = r'--oem 3 --psm 6 -l ind'  # OCR Engine Mode (OEM) and Page Segmentation Mode (PSM)\n",
    "text = pytesseract.image_to_string(denoised, config=custom_config)\n",
    "\n",
    "# Print the extracted text\n",
    "print(\"Extracted Text:\\n\", text)\n",
    "\n",
    "# Display the preprocessed image\n",
    "\"\"\"cv2.imshow('Preprocessed Image', denoised)\n",
    "cv2.waitKey(0)\n",
    "cv2.destroyAllWindows()\"\"\""
   ]
  },
  {
   "cell_type": "code",
   "execution_count": null,
   "metadata": {},
   "outputs": [],
   "source": []
  }
 ],
 "metadata": {
  "kernelspec": {
   "display_name": "tf-pro",
   "language": "python",
   "name": "python3"
  },
  "language_info": {
   "codemirror_mode": {
    "name": "ipython",
    "version": 3
   },
   "file_extension": ".py",
   "mimetype": "text/x-python",
   "name": "python",
   "nbconvert_exporter": "python",
   "pygments_lexer": "ipython3",
   "version": "3.11.10"
  }
 },
 "nbformat": 4,
 "nbformat_minor": 2
}
