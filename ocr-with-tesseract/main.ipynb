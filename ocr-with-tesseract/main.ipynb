{
 "cells": [
  {
   "cell_type": "code",
   "execution_count": null,
   "metadata": {},
   "outputs": [],
   "source": [
    "import pytesseract\n",
    "from PIL import Image\n",
    "\n",
    "image = Image.open('../assets/ktp_sample_2.jpg')\n",
    "\n",
    "text = pytesseract.image_to_string(image, lang='ind')\n",
    "print(text)"
   ]
  },
  {
   "cell_type": "markdown",
   "metadata": {},
   "source": [
    "# Use OpenCV for preprocessing"
   ]
  },
  {
   "cell_type": "code",
   "execution_count": null,
   "metadata": {},
   "outputs": [],
   "source": [
    "import cv2\n",
    "import pytesseract\n",
    "from pytesseract import Output\n",
    "\n",
    "image = cv2.imread('../assets/ktp_sample_2.jpg')\n",
    "\n",
    "# Preprocessing\n",
    "gray = cv2.cvtColor(image, cv2.COLOR_BGR2GRAY)  # Convert to grayscale\n",
    "_, binary = cv2.threshold(gray, 150, 255, cv2.THRESH_BINARY)  # Binarization\n",
    "denoised = cv2.medianBlur(binary, 3)  # Noise removal\n",
    "\n",
    "# Perform OCR using Tesseract\n",
    "custom_config = r'--oem 3 --psm 6 -l ind'  # OCR Engine Mode (OEM) and Page Segmentation Mode (PSM)\n",
    "text = pytesseract.image_to_string(denoised, config=custom_config)\n",
    "\n",
    "# Print the extracted text\n",
    "print(\"Extracted Text:\\n\", text)\n",
    "\n",
    "# Display the preprocessed image\n",
    "\"\"\"cv2.imshow('Preprocessed Image', denoised)\n",
    "cv2.waitKey(0)\n",
    "cv2.destroyAllWindows()\"\"\""
   ]
  },
  {
   "cell_type": "code",
   "execution_count": null,
   "metadata": {},
   "outputs": [],
   "source": []
  }
 ],
 "metadata": {
  "kernelspec": {
   "display_name": "tf-pro",
   "language": "python",
   "name": "python3"
  },
  "language_info": {
   "codemirror_mode": {
    "name": "ipython",
    "version": 3
   },
   "file_extension": ".py",
   "mimetype": "text/x-python",
   "name": "python",
   "nbconvert_exporter": "python",
   "pygments_lexer": "ipython3",
   "version": "3.11.10"
  }
 },
 "nbformat": 4,
 "nbformat_minor": 2
}
